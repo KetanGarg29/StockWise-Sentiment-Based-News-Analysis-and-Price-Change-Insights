{
 "cells": [
  {
   "cell_type": "code",
   "execution_count": null,
   "id": "b4ad14e5",
   "metadata": {},
   "outputs": [],
   "source": [
    "# Use a pipeline as a high-level helper\n",
    "from transformers import pipeline\n",
    "\n",
    "pipe = pipeline(\"text-classification\", model=\"ProsusAI/finbert\")\n"
   ]
  },
  {
   "cell_type": "code",
   "execution_count": null,
   "id": "982b6a6e",
   "metadata": {},
   "outputs": [],
   "source": [
    "news_text = \"Vanguard group purchases 1.1% stake in Vishal Mega Mart for ₹655 crore\"\n",
    "\n",
    "result = pipe(news_text)\n",
    "print(result)\n",
    "# [{'label': 'positive', 'score': 0.95}"
   ]
  }
 ],
 "metadata": {
  "language_info": {
   "name": "python"
  }
 },
 "nbformat": 4,
 "nbformat_minor": 5
}
